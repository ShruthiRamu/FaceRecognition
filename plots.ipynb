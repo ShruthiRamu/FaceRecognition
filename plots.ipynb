{
  "nbformat": 4,
  "nbformat_minor": 0,
  "metadata": {
    "colab": {
      "name": "Asn8_Part4.2_Plots.ipynb",
      "provenance": []
    },
    "kernelspec": {
      "name": "python3",
      "display_name": "Python 3"
    },
    "language_info": {
      "name": "python"
    }
  },
  "cells": [
    {
      "cell_type": "code",
      "execution_count": 1,
      "metadata": {
        "id": "0-7Bo1TU_jGU"
      },
      "outputs": [],
      "source": [
        "import tensorflow as tf"
      ]
    },
    {
      "cell_type": "code",
      "source": [
        "print(tf.__version__)"
      ],
      "metadata": {
        "colab": {
          "base_uri": "https://localhost:8080/"
        },
        "id": "9aVP1LHWBTc1",
        "outputId": "4ada9817-7ce4-45c5-ffdf-d9d9e57e706d"
      },
      "execution_count": 2,
      "outputs": [
        {
          "output_type": "stream",
          "name": "stdout",
          "text": [
            "2.8.0\n"
          ]
        }
      ]
    },
    {
      "cell_type": "code",
      "source": [
        "from sklearn import datasets\n",
        "from sklearn.model_selection import train_test_split\n",
        "from sklearn.linear_model import LogisticRegression\n",
        "from sklearn.metrics import precision_recall_curve\n",
        "import matplotlib.pyplot as plt"
      ],
      "metadata": {
        "id": "0Iec0uPEBTag"
      },
      "execution_count": 3,
      "outputs": []
    },
    {
      "cell_type": "code",
      "source": [
        "#create dataset with 5 predictor variables\n",
        "X, y = datasets.make_classification(n_samples=1200,\n",
        "                                    n_features=4,\n",
        "                                    n_informative=3,\n",
        "                                    n_redundant=1,\n",
        "                                    random_state=0)\n",
        "\n",
        "#split dataset into training and testing set\n",
        "X_train, X_test, y_train, y_test = train_test_split(X, y, test_size=.3,random_state=0)\n",
        "\n",
        "#fit logistic regression model to dataset\n",
        "classifier = LogisticRegression()\n",
        "classifier.fit(X_train, y_train)\n",
        "\n",
        "#use logistic regression model to make predictions\n",
        "y_score = classifier.predict_proba(X_test)[:, 1]\n"
      ],
      "metadata": {
        "id": "ndndACeiBTX2"
      },
      "execution_count": 6,
      "outputs": []
    },
    {
      "cell_type": "code",
      "source": [
        "#calculate precision and recall\n",
        "precision, recall, thresholds = precision_recall_curve(y_test, y_score)\n",
        "\n",
        "#create precision recall curve\n",
        "fig, ax = plt.subplots()\n",
        "ax.plot(recall, precision, color='purple')\n",
        "\n",
        "#add axis labels to plot\n",
        "ax.set_title('Precision-Recall Curve')\n",
        "ax.set_ylabel('Precision')\n",
        "ax.set_xlabel('Recall')\n",
        "\n",
        "#display plot\n",
        "plt.show()"
      ],
      "metadata": {
        "colab": {
          "base_uri": "https://localhost:8080/",
          "height": 295
        },
        "id": "s2nLMEb0BTVh",
        "outputId": "a93f30d8-d0a5-4845-b622-c3875e5a0c37"
      },
      "execution_count": 5,
      "outputs": [
        {
          "output_type": "display_data",
          "data": {
            "text/plain": [
              "<Figure size 432x288 with 1 Axes>"
            ],
            "image/png": "[encoded data removed]"
          },
          "metadata": {
            "needs_background": "light"
          }
        }
      ]
    },
    {
      "cell_type": "markdown",
      "source": [
        "<b><font color='red'>Accuracy for 10 celebrities."
      ],
      "metadata": {
        "id": "Jquvacv3Dn5g"
      }
    },
    {
      "cell_type": "code",
      "source": [
        "import numpy\n",
        "import sklearn.metrics\n",
        "\n",
        "y_true = [\"positive\", \"negative\", \"negative\", \"positive\", \"positive\", \"positive\", \"negative\",\"positive\",\"positive\",\"positive\" ]\n",
        "y_pred = [\"positive\", \"negative\", \"positive\", \"positive\", \"negative\", \"positive\", \"positive\",\"positive\",\"positive\",\"positive\"]\n",
        "\n",
        "r = sklearn.metrics.confusion_matrix(y_true, y_pred)\n",
        "\n",
        "r = numpy.flip(r)\n",
        "\n",
        "acc = (r[0][0] + r[-1][-1]) / numpy.sum(r)\n",
        "print(acc)"
      ],
      "metadata": {
        "colab": {
          "base_uri": "https://localhost:8080/"
        },
        "id": "tE_9DMwZBTTD",
        "outputId": "b8571014-9c45-44bf-9fe4-734719461bd6"
      },
      "execution_count": 7,
      "outputs": [
        {
          "output_type": "stream",
          "name": "stdout",
          "text": [
            "0.7\n"
          ]
        }
      ]
    },
    {
      "cell_type": "code",
      "source": [
        "acc = sklearn.metrics.accuracy_score(y_true, y_pred)"
      ],
      "metadata": {
        "id": "3st2VoajDhUo"
      },
      "execution_count": 8,
      "outputs": []
    },
    {
      "cell_type": "markdown",
      "source": [
        "<b><font color='red'>Precision for 10 celebrities."
      ],
      "metadata": {
        "id": "nWdxp5qIED_s"
      }
    },
    {
      "cell_type": "code",
      "source": [
        "import sklearn.metrics\n",
        "\n",
        "y_true = [\"positive\", \"positive\", \"positive\", \"negative\", \"negative\", \"negative\",\"positive\",\"positive\",\"positive\",\"positive\"]\n",
        "y_pred = [\"positive\", \"positive\", \"negative\", \"positive\", \"negative\", \"negative\",\"positive\",\"positive\",\"positive\",\"positive\"]\n",
        "\n",
        "precision = sklearn.metrics.precision_score(y_true, y_pred, pos_label=\"positive\")\n",
        "print(precision)"
      ],
      "metadata": {
        "colab": {
          "base_uri": "https://localhost:8080/"
        },
        "id": "ibi4am1_DhRM",
        "outputId": "6b1412c2-06f7-46bb-8ad5-b29e35ac7929"
      },
      "execution_count": 9,
      "outputs": [
        {
          "output_type": "stream",
          "name": "stdout",
          "text": [
            "0.8571428571428571\n"
          ]
        }
      ]
    },
    {
      "cell_type": "markdown",
      "source": [
        "<b><font color='red'>Recall for 10 celebrities."
      ],
      "metadata": {
        "id": "DiLsk5ffEVGA"
      }
    },
    {
      "cell_type": "code",
      "source": [
        "import sklearn.metrics\n",
        "\n",
        "y_true = [\"positive\", \"positive\", \"positive\", \"negative\", \"negative\", \"negative\",\"negative\",\"negative\",\"positive\",\"positive\"]\n",
        "y_pred = [\"positive\", \"positive\", \"negative\", \"positive\", \"negative\", \"negative\",\"negative\",\"negative\",\"positive\",\"positive\"]\n",
        "\n",
        "recall = sklearn.metrics.recall_score(y_true, y_pred, pos_label=\"positive\")\n",
        "print(recall)"
      ],
      "metadata": {
        "colab": {
          "base_uri": "https://localhost:8080/"
        },
        "id": "XSQcXOHXDhO0",
        "outputId": "9bed8042-70b8-433f-b211-68f93b07b2bf"
      },
      "execution_count": 10,
      "outputs": [
        {
          "output_type": "stream",
          "name": "stdout",
          "text": [
            "0.8\n"
          ]
        }
      ]
    }
  ]
}