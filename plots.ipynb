{
 "cells": [
  {
   "cell_type": "markdown",
   "metadata": {},
   "source": [
    "## Assignment 8\n",
    "### Name : Shruthi Ramu\n",
    "### Student ID : 029368922"
   ]
  },
  {
   "cell_type": "code",
   "execution_count": 1,
   "metadata": {
    "id": "0-7Bo1TU_jGU"
   },
   "outputs": [
    {
     "name": "stderr",
     "output_type": "stream",
     "text": [
      "2022-11-13 22:26:08.671893: I tensorflow/core/platform/cpu_feature_guard.cc:193] This TensorFlow binary is optimized with oneAPI Deep Neural Network Library (oneDNN) to use the following CPU instructions in performance-critical operations:  AVX2 FMA\n",
      "To enable them in other operations, rebuild TensorFlow with the appropriate compiler flags.\n"
     ]
    }
   ],
   "source": [
    "import tensorflow as tf"
   ]
  },
  {
   "cell_type": "code",
   "execution_count": 2,
   "metadata": {
    "colab": {
     "base_uri": "https://localhost:8080/"
    },
    "id": "9aVP1LHWBTc1",
    "outputId": "4ada9817-7ce4-45c5-ffdf-d9d9e57e706d"
   },
   "outputs": [
    {
     "name": "stdout",
     "output_type": "stream",
     "text": [
      "2.10.0\n"
     ]
    }
   ],
   "source": [
    "print(tf.__version__)"
   ]
  },
  {
   "cell_type": "code",
   "execution_count": 3,
   "metadata": {
    "id": "0Iec0uPEBTag"
   },
   "outputs": [],
   "source": [
    "from sklearn import datasets\n",
    "from sklearn.model_selection import train_test_split\n",
    "from sklearn.linear_model import LogisticRegression\n",
    "from sklearn.metrics import precision_recall_curve\n",
    "import matplotlib.pyplot as plt"
   ]
  },
  {
   "cell_type": "code",
   "execution_count": 5,
   "metadata": {
    "id": "ndndACeiBTX2"
   },
   "outputs": [],
   "source": [
    "#create dataset with 5 predictor variables\n",
    "X, y = datasets.make_classification(n_samples=1200,\n",
    "                                    n_features=4,\n",
    "                                    n_informative=3,\n",
    "                                    n_redundant=1,\n",
    "                                    random_state=0)\n",
    "\n",
    "#split dataset into training and testing set\n",
    "X_train, X_test, y_train, y_test = train_test_split(X, y, test_size=.3,random_state=0)\n",
    "\n",
    "#fit logistic regression model to dataset\n",
    "classifier = LogisticRegression()\n",
    "classifier.fit(X_train, y_train)\n",
    "\n",
    "#use logistic regression model to make predictions\n",
    "y_score = classifier.predict_proba(X_test)[:, 1]\n"
   ]
  },
  {
   "cell_type": "code",
   "execution_count": 6,
   "metadata": {
    "colab": {
     "base_uri": "https://localhost:8080/",
     "height": 295
    },
    "id": "s2nLMEb0BTVh",
    "outputId": "a93f30d8-d0a5-4845-b622-c3875e5a0c37"
   },
   "outputs": [
    {
     "data": {
      "image/png": "[encoded data removed]",
      "text/plain": [
       "<Figure size 432x288 with 1 Axes>"
      ]
     },
     "metadata": {
      "needs_background": "light"
     },
     "output_type": "display_data"
    }
   ],
   "source": [
    "#calculate precision and recall\n",
    "precision, recall, thresholds = precision_recall_curve(y_test, y_score)\n",
    "\n",
    "#create precision recall curve\n",
    "fig, ax = plt.subplots()\n",
    "ax.plot(recall, precision, color='red')\n",
    "\n",
    "#add axis labels to plot\n",
    "ax.set_title('Precision-Recall Curve')\n",
    "ax.set_ylabel('Precision')\n",
    "ax.set_xlabel('Recall')\n",
    "\n",
    "#display plot\n",
    "plt.show()"
   ]
  },
  {
   "cell_type": "markdown",
   "metadata": {
    "id": "Jquvacv3Dn5g"
   },
   "source": [
    "#### Accuracy for 10 celebrities."
   ]
  },
  {
   "cell_type": "code",
   "execution_count": 7,
   "metadata": {
    "colab": {
     "base_uri": "https://localhost:8080/"
    },
    "id": "tE_9DMwZBTTD",
    "outputId": "b8571014-9c45-44bf-9fe4-734719461bd6"
   },
   "outputs": [
    {
     "name": "stdout",
     "output_type": "stream",
     "text": [
      "0.7\n"
     ]
    }
   ],
   "source": [
    "import numpy\n",
    "import sklearn.metrics\n",
    "\n",
    "y_true = [\"positive\", \"negative\", \"negative\", \"positive\", \"positive\", \"positive\", \"negative\",\"positive\",\"positive\",\"positive\" ]\n",
    "y_pred = [\"positive\", \"negative\", \"positive\", \"positive\", \"negative\", \"positive\", \"positive\",\"positive\",\"positive\",\"positive\"]\n",
    "\n",
    "r = sklearn.metrics.confusion_matrix(y_true, y_pred)\n",
    "\n",
    "r = numpy.flip(r)\n",
    "\n",
    "acc = (r[0][0] + r[-1][-1]) / numpy.sum(r)\n",
    "print(acc)"
   ]
  },
  {
   "cell_type": "code",
   "execution_count": 8,
   "metadata": {
    "id": "3st2VoajDhUo"
   },
   "outputs": [],
   "source": [
    "acc = sklearn.metrics.accuracy_score(y_true, y_pred)"
   ]
  },
  {
   "cell_type": "markdown",
   "metadata": {
    "id": "nWdxp5qIED_s"
   },
   "source": [
    "#### Precision for 10 celebrities."
   ]
  },
  {
   "cell_type": "code",
   "execution_count": 9,
   "metadata": {
    "colab": {
     "base_uri": "https://localhost:8080/"
    },
    "id": "ibi4am1_DhRM",
    "outputId": "6b1412c2-06f7-46bb-8ad5-b29e35ac7929"
   },
   "outputs": [
    {
     "name": "stdout",
     "output_type": "stream",
     "text": [
      "0.8571428571428571\n"
     ]
    }
   ],
   "source": [
    "import sklearn.metrics\n",
    "\n",
    "y_true = [\"positive\", \"positive\", \"positive\", \"negative\", \"negative\", \"negative\",\"positive\",\"positive\",\"positive\",\"positive\"]\n",
    "y_pred = [\"positive\", \"positive\", \"negative\", \"positive\", \"negative\", \"negative\",\"positive\",\"positive\",\"positive\",\"positive\"]\n",
    "\n",
    "precision = sklearn.metrics.precision_score(y_true, y_pred, pos_label=\"positive\")\n",
    "print(precision)"
   ]
  },
  {
   "cell_type": "markdown",
   "metadata": {
    "id": "DiLsk5ffEVGA"
   },
   "source": [
    "#### Recall for 10 celebrities."
   ]
  },
  {
   "cell_type": "code",
   "execution_count": 10,
   "metadata": {
    "colab": {
     "base_uri": "https://localhost:8080/"
    },
    "id": "XSQcXOHXDhO0",
    "outputId": "9bed8042-70b8-433f-b211-68f93b07b2bf"
   },
   "outputs": [
    {
     "name": "stdout",
     "output_type": "stream",
     "text": [
      "0.8\n"
     ]
    }
   ],
   "source": [
    "import sklearn.metrics\n",
    "\n",
    "y_true = [\"positive\", \"positive\", \"positive\", \"negative\", \"negative\", \"negative\",\"negative\",\"negative\",\"positive\",\"positive\"]\n",
    "y_pred = [\"positive\", \"positive\", \"negative\", \"positive\", \"negative\", \"negative\",\"negative\",\"negative\",\"positive\",\"positive\"]\n",
    "\n",
    "recall = sklearn.metrics.recall_score(y_true, y_pred, pos_label=\"positive\")\n",
    "print(recall)"
   ]
  },
  {
   "cell_type": "code",
   "execution_count": null,
   "metadata": {},
   "outputs": [],
   "source": []
  }
 ],
 "metadata": {
  "colab": {
   "name": "Asn8_Part4.2_Plots.ipynb",
   "provenance": []
  },
  "kernelspec": {
   "display_name": "Python 3 (ipykernel)",
   "language": "python",
   "name": "python3"
  },
  "language_info": {
   "codemirror_mode": {
    "name": "ipython",
    "version": 3
   },
   "file_extension": ".py",
   "mimetype": "text/x-python",
   "name": "python",
   "nbconvert_exporter": "python",
   "pygments_lexer": "ipython3",
   "version": "3.7.15"
  }
 },
 "nbformat": 4,
 "nbformat_minor": 1
}
